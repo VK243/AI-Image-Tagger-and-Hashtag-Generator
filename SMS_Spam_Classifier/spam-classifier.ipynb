{
 "cells": [
  {
   "cell_type": "code",
   "execution_count": 1,
   "metadata": {
    "execution": {
     "iopub.execute_input": "2023-03-05T14:13:29.617613Z",
     "iopub.status.busy": "2023-03-05T14:13:29.617185Z",
     "iopub.status.idle": "2023-03-05T14:13:29.627486Z",
     "shell.execute_reply": "2023-03-05T14:13:29.624896Z",
     "shell.execute_reply.started": "2023-03-05T14:13:29.617573Z"
    }
   },
   "outputs": [],
   "source": [
    "import numpy as np\n",
    "import pandas as pd"
   ]
  },
  {
   "cell_type": "code",
   "execution_count": 10,
   "metadata": {
    "execution": {
     "iopub.execute_input": "2023-03-05T14:13:29.631323Z",
     "iopub.status.busy": "2023-03-05T14:13:29.630866Z",
     "iopub.status.idle": "2023-03-05T14:13:29.659514Z",
     "shell.execute_reply": "2023-03-05T14:13:29.658635Z",
     "shell.execute_reply.started": "2023-03-05T14:13:29.631284Z"
    }
   },
   "outputs": [],
   "source": [
    "df = pd.read_csv(\"Dataset/spamdata.csv\", encoding='latin1')"
   ]
  },
  {
   "cell_type": "code",
   "execution_count": 11,
   "metadata": {
    "execution": {
     "iopub.execute_input": "2023-03-05T14:13:29.837255Z",
     "iopub.status.busy": "2023-03-05T14:13:29.836681Z",
     "iopub.status.idle": "2023-03-05T14:13:29.849718Z",
     "shell.execute_reply": "2023-03-05T14:13:29.848722Z",
     "shell.execute_reply.started": "2023-03-05T14:13:29.837221Z"
    }
   },
   "outputs": [
    {
     "data": {
      "text/html": [
       "<div>\n",
       "<style scoped>\n",
       "    .dataframe tbody tr th:only-of-type {\n",
       "        vertical-align: middle;\n",
       "    }\n",
       "\n",
       "    .dataframe tbody tr th {\n",
       "        vertical-align: top;\n",
       "    }\n",
       "\n",
       "    .dataframe thead th {\n",
       "        text-align: right;\n",
       "    }\n",
       "</style>\n",
       "<table border=\"1\" class=\"dataframe\">\n",
       "  <thead>\n",
       "    <tr style=\"text-align: right;\">\n",
       "      <th></th>\n",
       "      <th>v1</th>\n",
       "      <th>v2</th>\n",
       "      <th>Unnamed: 2</th>\n",
       "      <th>Unnamed: 3</th>\n",
       "      <th>Unnamed: 4</th>\n",
       "    </tr>\n",
       "  </thead>\n",
       "  <tbody>\n",
       "    <tr>\n",
       "      <th>3532</th>\n",
       "      <td>ham</td>\n",
       "      <td>Sorry, I'll call later</td>\n",
       "      <td>NaN</td>\n",
       "      <td>NaN</td>\n",
       "      <td>NaN</td>\n",
       "    </tr>\n",
       "    <tr>\n",
       "      <th>1524</th>\n",
       "      <td>ham</td>\n",
       "      <td>Hi:)cts employee how are you?</td>\n",
       "      <td>NaN</td>\n",
       "      <td>NaN</td>\n",
       "      <td>NaN</td>\n",
       "    </tr>\n",
       "    <tr>\n",
       "      <th>2525</th>\n",
       "      <td>ham</td>\n",
       "      <td>Say this slowly.? GOD,I LOVE YOU &amp;amp; I NEED ...</td>\n",
       "      <td>NaN</td>\n",
       "      <td>NaN</td>\n",
       "      <td>NaN</td>\n",
       "    </tr>\n",
       "    <tr>\n",
       "      <th>3956</th>\n",
       "      <td>ham</td>\n",
       "      <td>Where is that one day training:-)</td>\n",
       "      <td>NaN</td>\n",
       "      <td>NaN</td>\n",
       "      <td>NaN</td>\n",
       "    </tr>\n",
       "    <tr>\n",
       "      <th>4408</th>\n",
       "      <td>spam</td>\n",
       "      <td>For your chance to WIN a FREE Bluetooth Headse...</td>\n",
       "      <td>NaN</td>\n",
       "      <td>NaN</td>\n",
       "      <td>NaN</td>\n",
       "    </tr>\n",
       "  </tbody>\n",
       "</table>\n",
       "</div>"
      ],
      "text/plain": [
       "        v1                                                 v2 Unnamed: 2  \\\n",
       "3532   ham                             Sorry, I'll call later        NaN   \n",
       "1524   ham                      Hi:)cts employee how are you?        NaN   \n",
       "2525   ham  Say this slowly.? GOD,I LOVE YOU &amp; I NEED ...        NaN   \n",
       "3956   ham                  Where is that one day training:-)        NaN   \n",
       "4408  spam  For your chance to WIN a FREE Bluetooth Headse...        NaN   \n",
       "\n",
       "     Unnamed: 3 Unnamed: 4  \n",
       "3532        NaN        NaN  \n",
       "1524        NaN        NaN  \n",
       "2525        NaN        NaN  \n",
       "3956        NaN        NaN  \n",
       "4408        NaN        NaN  "
      ]
     },
     "execution_count": 11,
     "metadata": {},
     "output_type": "execute_result"
    }
   ],
   "source": [
    "df.sample(5)"
   ]
  },
  {
   "cell_type": "code",
   "execution_count": 12,
   "metadata": {
    "execution": {
     "iopub.execute_input": "2023-03-05T14:13:29.851948Z",
     "iopub.status.busy": "2023-03-05T14:13:29.851480Z",
     "iopub.status.idle": "2023-03-05T14:13:29.858115Z",
     "shell.execute_reply": "2023-03-05T14:13:29.856828Z",
     "shell.execute_reply.started": "2023-03-05T14:13:29.851912Z"
    }
   },
   "outputs": [
    {
     "data": {
      "text/plain": [
       "(5572, 5)"
      ]
     },
     "execution_count": 12,
     "metadata": {},
     "output_type": "execute_result"
    }
   ],
   "source": [
    "df.shape"
   ]
  },
  {
   "cell_type": "code",
   "execution_count": 13,
   "metadata": {
    "execution": {
     "iopub.execute_input": "2023-03-05T14:13:29.860940Z",
     "iopub.status.busy": "2023-03-05T14:13:29.859321Z",
     "iopub.status.idle": "2023-03-05T14:13:29.872922Z",
     "shell.execute_reply": "2023-03-05T14:13:29.870283Z",
     "shell.execute_reply.started": "2023-03-05T14:13:29.860843Z"
    }
   },
   "outputs": [],
   "source": [
    "# 1.Data Cleaning\n",
    "# 2. EDA\n",
    "# 3. Text Preprocessing\n",
    "# 4. Model building\n",
    "# 5. Evaluation\n",
    "# 6. Improvement"
   ]
  },
  {
   "cell_type": "markdown",
   "metadata": {},
   "source": [
    "## 1. Data Cleaning"
   ]
  },
  {
   "cell_type": "code",
   "execution_count": 14,
   "metadata": {
    "execution": {
     "iopub.execute_input": "2023-03-05T14:13:29.876793Z",
     "iopub.status.busy": "2023-03-05T14:13:29.875403Z",
     "iopub.status.idle": "2023-03-05T14:13:29.896688Z",
     "shell.execute_reply": "2023-03-05T14:13:29.893606Z",
     "shell.execute_reply.started": "2023-03-05T14:13:29.876727Z"
    }
   },
   "outputs": [
    {
     "name": "stdout",
     "output_type": "stream",
     "text": [
      "<class 'pandas.core.frame.DataFrame'>\n",
      "RangeIndex: 5572 entries, 0 to 5571\n",
      "Data columns (total 5 columns):\n",
      " #   Column      Non-Null Count  Dtype \n",
      "---  ------      --------------  ----- \n",
      " 0   v1          5572 non-null   object\n",
      " 1   v2          5572 non-null   object\n",
      " 2   Unnamed: 2  50 non-null     object\n",
      " 3   Unnamed: 3  12 non-null     object\n",
      " 4   Unnamed: 4  6 non-null      object\n",
      "dtypes: object(5)\n",
      "memory usage: 217.8+ KB\n"
     ]
    }
   ],
   "source": [
    "df.info()"
   ]
  },
  {
   "cell_type": "code",
   "execution_count": 15,
   "metadata": {
    "execution": {
     "iopub.execute_input": "2023-03-05T14:13:29.901097Z",
     "iopub.status.busy": "2023-03-05T14:13:29.900637Z",
     "iopub.status.idle": "2023-03-05T14:13:29.909389Z",
     "shell.execute_reply": "2023-03-05T14:13:29.907859Z",
     "shell.execute_reply.started": "2023-03-05T14:13:29.901051Z"
    }
   },
   "outputs": [],
   "source": [
    "#drop last 3 columns\n",
    "df.drop(columns=['Unnamed: 2','Unnamed: 3','Unnamed: 4'], inplace = True)"
   ]
  },
  {
   "cell_type": "code",
   "execution_count": 16,
   "metadata": {
    "execution": {
     "iopub.execute_input": "2023-03-05T14:13:29.913032Z",
     "iopub.status.busy": "2023-03-05T14:13:29.911649Z",
     "iopub.status.idle": "2023-03-05T14:13:29.936074Z",
     "shell.execute_reply": "2023-03-05T14:13:29.933705Z",
     "shell.execute_reply.started": "2023-03-05T14:13:29.912969Z"
    }
   },
   "outputs": [
    {
     "data": {
      "text/html": [
       "<div>\n",
       "<style scoped>\n",
       "    .dataframe tbody tr th:only-of-type {\n",
       "        vertical-align: middle;\n",
       "    }\n",
       "\n",
       "    .dataframe tbody tr th {\n",
       "        vertical-align: top;\n",
       "    }\n",
       "\n",
       "    .dataframe thead th {\n",
       "        text-align: right;\n",
       "    }\n",
       "</style>\n",
       "<table border=\"1\" class=\"dataframe\">\n",
       "  <thead>\n",
       "    <tr style=\"text-align: right;\">\n",
       "      <th></th>\n",
       "      <th>v1</th>\n",
       "      <th>v2</th>\n",
       "    </tr>\n",
       "  </thead>\n",
       "  <tbody>\n",
       "    <tr>\n",
       "      <th>4104</th>\n",
       "      <td>ham</td>\n",
       "      <td>Jus finish my lunch on my way home lor... I to...</td>\n",
       "    </tr>\n",
       "    <tr>\n",
       "      <th>4881</th>\n",
       "      <td>ham</td>\n",
       "      <td>As usual u can call me ard 10 smth.</td>\n",
       "    </tr>\n",
       "    <tr>\n",
       "      <th>484</th>\n",
       "      <td>ham</td>\n",
       "      <td>You should change your fb to jaykwon thuglyfe ...</td>\n",
       "    </tr>\n",
       "    <tr>\n",
       "      <th>1403</th>\n",
       "      <td>ham</td>\n",
       "      <td>cool. We will have fun practicing making babies!</td>\n",
       "    </tr>\n",
       "    <tr>\n",
       "      <th>3980</th>\n",
       "      <td>ham</td>\n",
       "      <td>Huh i cant thk of more oredi how many pages do...</td>\n",
       "    </tr>\n",
       "  </tbody>\n",
       "</table>\n",
       "</div>"
      ],
      "text/plain": [
       "       v1                                                 v2\n",
       "4104  ham  Jus finish my lunch on my way home lor... I to...\n",
       "4881  ham                As usual u can call me ard 10 smth.\n",
       "484   ham  You should change your fb to jaykwon thuglyfe ...\n",
       "1403  ham   cool. We will have fun practicing making babies!\n",
       "3980  ham  Huh i cant thk of more oredi how many pages do..."
      ]
     },
     "execution_count": 16,
     "metadata": {},
     "output_type": "execute_result"
    }
   ],
   "source": [
    "df.sample(5)"
   ]
  },
  {
   "cell_type": "code",
   "execution_count": 17,
   "metadata": {
    "execution": {
     "iopub.execute_input": "2023-03-05T14:13:29.940056Z",
     "iopub.status.busy": "2023-03-05T14:13:29.938726Z",
     "iopub.status.idle": "2023-03-05T14:13:29.955557Z",
     "shell.execute_reply": "2023-03-05T14:13:29.953928Z",
     "shell.execute_reply.started": "2023-03-05T14:13:29.940006Z"
    }
   },
   "outputs": [
    {
     "data": {
      "text/html": [
       "<div>\n",
       "<style scoped>\n",
       "    .dataframe tbody tr th:only-of-type {\n",
       "        vertical-align: middle;\n",
       "    }\n",
       "\n",
       "    .dataframe tbody tr th {\n",
       "        vertical-align: top;\n",
       "    }\n",
       "\n",
       "    .dataframe thead th {\n",
       "        text-align: right;\n",
       "    }\n",
       "</style>\n",
       "<table border=\"1\" class=\"dataframe\">\n",
       "  <thead>\n",
       "    <tr style=\"text-align: right;\">\n",
       "      <th></th>\n",
       "      <th>target</th>\n",
       "      <th>text</th>\n",
       "    </tr>\n",
       "  </thead>\n",
       "  <tbody>\n",
       "    <tr>\n",
       "      <th>4964</th>\n",
       "      <td>ham</td>\n",
       "      <td>A few people are at the game, I'm at the mall ...</td>\n",
       "    </tr>\n",
       "    <tr>\n",
       "      <th>3639</th>\n",
       "      <td>ham</td>\n",
       "      <td>He's really into skateboarding now despite the...</td>\n",
       "    </tr>\n",
       "    <tr>\n",
       "      <th>155</th>\n",
       "      <td>ham</td>\n",
       "      <td>Aaooooright are you at work?</td>\n",
       "    </tr>\n",
       "    <tr>\n",
       "      <th>2580</th>\n",
       "      <td>spam</td>\n",
       "      <td>U are subscribed to the best Mobile Content Se...</td>\n",
       "    </tr>\n",
       "    <tr>\n",
       "      <th>2216</th>\n",
       "      <td>ham</td>\n",
       "      <td>OK i'm waliking ard now... Do u wan me 2 buy a...</td>\n",
       "    </tr>\n",
       "  </tbody>\n",
       "</table>\n",
       "</div>"
      ],
      "text/plain": [
       "     target                                               text\n",
       "4964    ham  A few people are at the game, I'm at the mall ...\n",
       "3639    ham  He's really into skateboarding now despite the...\n",
       "155     ham                       Aaooooright are you at work?\n",
       "2580   spam  U are subscribed to the best Mobile Content Se...\n",
       "2216    ham  OK i'm waliking ard now... Do u wan me 2 buy a..."
      ]
     },
     "execution_count": 17,
     "metadata": {},
     "output_type": "execute_result"
    }
   ],
   "source": [
    "df.rename(columns={'v1':'target','v2':'text'},inplace=True)\n",
    "df.sample(5)"
   ]
  },
  {
   "cell_type": "code",
   "execution_count": 18,
   "metadata": {
    "execution": {
     "iopub.execute_input": "2023-03-05T14:13:29.957923Z",
     "iopub.status.busy": "2023-03-05T14:13:29.957574Z",
     "iopub.status.idle": "2023-03-05T14:13:29.965815Z",
     "shell.execute_reply": "2023-03-05T14:13:29.964746Z",
     "shell.execute_reply.started": "2023-03-05T14:13:29.957890Z"
    }
   },
   "outputs": [],
   "source": [
    "from sklearn.preprocessing import LabelEncoder\n",
    "encoder = LabelEncoder()"
   ]
  },
  {
   "cell_type": "code",
   "execution_count": 19,
   "metadata": {
    "execution": {
     "iopub.execute_input": "2023-03-05T14:13:29.967968Z",
     "iopub.status.busy": "2023-03-05T14:13:29.967139Z",
     "iopub.status.idle": "2023-03-05T14:13:29.992248Z",
     "shell.execute_reply": "2023-03-05T14:13:29.989882Z",
     "shell.execute_reply.started": "2023-03-05T14:13:29.967935Z"
    }
   },
   "outputs": [
    {
     "data": {
      "text/html": [
       "<div>\n",
       "<style scoped>\n",
       "    .dataframe tbody tr th:only-of-type {\n",
       "        vertical-align: middle;\n",
       "    }\n",
       "\n",
       "    .dataframe tbody tr th {\n",
       "        vertical-align: top;\n",
       "    }\n",
       "\n",
       "    .dataframe thead th {\n",
       "        text-align: right;\n",
       "    }\n",
       "</style>\n",
       "<table border=\"1\" class=\"dataframe\">\n",
       "  <thead>\n",
       "    <tr style=\"text-align: right;\">\n",
       "      <th></th>\n",
       "      <th>target</th>\n",
       "      <th>text</th>\n",
       "    </tr>\n",
       "  </thead>\n",
       "  <tbody>\n",
       "    <tr>\n",
       "      <th>0</th>\n",
       "      <td>0</td>\n",
       "      <td>Go until jurong point, crazy.. Available only ...</td>\n",
       "    </tr>\n",
       "    <tr>\n",
       "      <th>1</th>\n",
       "      <td>0</td>\n",
       "      <td>Ok lar... Joking wif u oni...</td>\n",
       "    </tr>\n",
       "    <tr>\n",
       "      <th>2</th>\n",
       "      <td>1</td>\n",
       "      <td>Free entry in 2 a wkly comp to win FA Cup fina...</td>\n",
       "    </tr>\n",
       "    <tr>\n",
       "      <th>3</th>\n",
       "      <td>0</td>\n",
       "      <td>U dun say so early hor... U c already then say...</td>\n",
       "    </tr>\n",
       "    <tr>\n",
       "      <th>4</th>\n",
       "      <td>0</td>\n",
       "      <td>Nah I don't think he goes to usf, he lives aro...</td>\n",
       "    </tr>\n",
       "  </tbody>\n",
       "</table>\n",
       "</div>"
      ],
      "text/plain": [
       "   target                                               text\n",
       "0       0  Go until jurong point, crazy.. Available only ...\n",
       "1       0                      Ok lar... Joking wif u oni...\n",
       "2       1  Free entry in 2 a wkly comp to win FA Cup fina...\n",
       "3       0  U dun say so early hor... U c already then say...\n",
       "4       0  Nah I don't think he goes to usf, he lives aro..."
      ]
     },
     "execution_count": 19,
     "metadata": {},
     "output_type": "execute_result"
    }
   ],
   "source": [
    "df['target'] = encoder.fit_transform(df['target'])\n",
    "df.head()"
   ]
  },
  {
   "cell_type": "code",
   "execution_count": 20,
   "metadata": {
    "execution": {
     "iopub.execute_input": "2023-03-05T14:13:29.994123Z",
     "iopub.status.busy": "2023-03-05T14:13:29.993791Z",
     "iopub.status.idle": "2023-03-05T14:13:30.010284Z",
     "shell.execute_reply": "2023-03-05T14:13:30.008094Z",
     "shell.execute_reply.started": "2023-03-05T14:13:29.994094Z"
    }
   },
   "outputs": [
    {
     "data": {
      "text/plain": [
       "target    0\n",
       "text      0\n",
       "dtype: int64"
      ]
     },
     "execution_count": 20,
     "metadata": {},
     "output_type": "execute_result"
    }
   ],
   "source": [
    "df.isnull().sum()"
   ]
  },
  {
   "cell_type": "code",
   "execution_count": 21,
   "metadata": {
    "execution": {
     "iopub.execute_input": "2023-03-05T14:13:30.067604Z",
     "iopub.status.busy": "2023-03-05T14:13:30.067033Z",
     "iopub.status.idle": "2023-03-05T14:13:30.085699Z",
     "shell.execute_reply": "2023-03-05T14:13:30.082862Z",
     "shell.execute_reply.started": "2023-03-05T14:13:30.067559Z"
    }
   },
   "outputs": [
    {
     "data": {
      "text/plain": [
       "403"
      ]
     },
     "execution_count": 21,
     "metadata": {},
     "output_type": "execute_result"
    }
   ],
   "source": [
    "df.duplicated().sum()"
   ]
  },
  {
   "cell_type": "code",
   "execution_count": 22,
   "metadata": {
    "execution": {
     "iopub.execute_input": "2023-03-05T14:13:30.090214Z",
     "iopub.status.busy": "2023-03-05T14:13:30.089685Z",
     "iopub.status.idle": "2023-03-05T14:13:30.106091Z",
     "shell.execute_reply": "2023-03-05T14:13:30.103191Z",
     "shell.execute_reply.started": "2023-03-05T14:13:30.090167Z"
    }
   },
   "outputs": [],
   "source": [
    "df = df.drop_duplicates(keep='first')"
   ]
  },
  {
   "cell_type": "code",
   "execution_count": 23,
   "metadata": {
    "execution": {
     "iopub.execute_input": "2023-03-05T14:13:30.109112Z",
     "iopub.status.busy": "2023-03-05T14:13:30.108045Z",
     "iopub.status.idle": "2023-03-05T14:13:30.125531Z",
     "shell.execute_reply": "2023-03-05T14:13:30.124275Z",
     "shell.execute_reply.started": "2023-03-05T14:13:30.109069Z"
    }
   },
   "outputs": [
    {
     "data": {
      "text/plain": [
       "0"
      ]
     },
     "execution_count": 23,
     "metadata": {},
     "output_type": "execute_result"
    }
   ],
   "source": [
    "df.duplicated().sum()"
   ]
  },
  {
   "cell_type": "code",
   "execution_count": 24,
   "metadata": {
    "execution": {
     "iopub.execute_input": "2023-03-05T14:13:30.127236Z",
     "iopub.status.busy": "2023-03-05T14:13:30.126932Z",
     "iopub.status.idle": "2023-03-05T14:13:30.137760Z",
     "shell.execute_reply": "2023-03-05T14:13:30.135797Z",
     "shell.execute_reply.started": "2023-03-05T14:13:30.127206Z"
    }
   },
   "outputs": [
    {
     "data": {
      "text/plain": [
       "(5169, 2)"
      ]
     },
     "execution_count": 24,
     "metadata": {},
     "output_type": "execute_result"
    }
   ],
   "source": [
    "df.shape"
   ]
  },
  {
   "cell_type": "markdown",
   "metadata": {},
   "source": [
    "## 2. EDA   Exploratory Data Analysis"
   ]
  },
  {
   "cell_type": "code",
   "execution_count": 25,
   "metadata": {
    "execution": {
     "iopub.execute_input": "2023-03-05T14:13:30.144183Z",
     "iopub.status.busy": "2023-03-05T14:13:30.142229Z",
     "iopub.status.idle": "2023-03-05T14:13:30.155857Z",
     "shell.execute_reply": "2023-03-05T14:13:30.153447Z",
     "shell.execute_reply.started": "2023-03-05T14:13:30.144102Z"
    }
   },
   "outputs": [
    {
     "data": {
      "text/plain": [
       "0    4516\n",
       "1     653\n",
       "Name: target, dtype: int64"
      ]
     },
     "execution_count": 25,
     "metadata": {},
     "output_type": "execute_result"
    }
   ],
   "source": [
    "df['target'].value_counts()"
   ]
  },
  {
   "cell_type": "code",
   "execution_count": 26,
   "metadata": {
    "execution": {
     "iopub.execute_input": "2023-03-05T14:13:30.157741Z",
     "iopub.status.busy": "2023-03-05T14:13:30.157272Z",
     "iopub.status.idle": "2023-03-05T14:13:30.251558Z",
     "shell.execute_reply": "2023-03-05T14:13:30.250634Z",
     "shell.execute_reply.started": "2023-03-05T14:13:30.157695Z"
    }
   },
   "outputs": [
    {
     "data": {
      "image/png": "[encoded data removed]",
      "text/plain": [
       "<Figure size 640x480 with 1 Axes>"
      ]
     },
     "metadata": {},
     "output_type": "display_data"
    }
   ],
   "source": [
    "import matplotlib.pyplot as plt\n",
    "plt.pie(df['target'].value_counts(), labels=['ham','spam'],autopct='%0.2f')\n",
    "plt.show()"
   ]
  },
  {
   "cell_type": "code",
   "execution_count": 27,
   "metadata": {
    "execution": {
     "iopub.execute_input": "2023-03-05T14:13:30.253526Z",
     "iopub.status.busy": "2023-03-05T14:13:30.253010Z",
     "iopub.status.idle": "2023-03-05T14:13:30.257764Z",
     "shell.execute_reply": "2023-03-05T14:13:30.256989Z",
     "shell.execute_reply.started": "2023-03-05T14:13:30.253493Z"
    }
   },
   "outputs": [],
   "source": [
    "import nltk"
   ]
  },
  {
   "cell_type": "code",
   "execution_count": 28,
   "metadata": {
    "execution": {
     "iopub.execute_input": "2023-03-05T14:13:30.259460Z",
     "iopub.status.busy": "2023-03-05T14:13:30.258971Z",
     "iopub.status.idle": "2023-03-05T14:13:30.273130Z",
     "shell.execute_reply": "2023-03-05T14:13:30.272314Z",
     "shell.execute_reply.started": "2023-03-05T14:13:30.259428Z"
    }
   },
   "outputs": [
    {
     "name": "stderr",
     "output_type": "stream",
     "text": [
      "[nltk_data] Error loading punkt: <urlopen error [WinError 10054] An\n",
      "[nltk_data]     existing connection was forcibly closed by the remote\n",
      "[nltk_data]     host>\n"
     ]
    },
    {
     "data": {
      "text/plain": [
       "False"
      ]
     },
     "execution_count": 28,
     "metadata": {},
     "output_type": "execute_result"
    }
   ],
   "source": [
    "nltk.download('punkt')"
   ]
  },
  {
   "cell_type": "code",
   "execution_count": null,
   "metadata": {
    "execution": {
     "iopub.execute_input": "2023-03-05T14:13:30.275017Z",
     "iopub.status.busy": "2023-03-05T14:13:30.274532Z",
     "iopub.status.idle": "2023-03-05T14:13:30.291860Z",
     "shell.execute_reply": "2023-03-05T14:13:30.290905Z",
     "shell.execute_reply.started": "2023-03-05T14:13:30.274986Z"
    }
   },
   "outputs": [],
   "source": [
    "df['num_characters'] = df['text'].apply(len)\n",
    "df.head()"
   ]
  },
  {
   "cell_type": "code",
   "execution_count": null,
   "metadata": {
    "execution": {
     "iopub.execute_input": "2023-03-05T14:13:30.293827Z",
     "iopub.status.busy": "2023-03-05T14:13:30.293283Z",
     "iopub.status.idle": "2023-03-05T14:13:31.322470Z",
     "shell.execute_reply": "2023-03-05T14:13:31.321394Z",
     "shell.execute_reply.started": "2023-03-05T14:13:30.293793Z"
    }
   },
   "outputs": [],
   "source": [
    "df['num_words'] = df['text'].apply(lambda x : len(nltk.word_tokenize(x)) )\n",
    "df.head()"
   ]
  },
  {
   "cell_type": "code",
   "execution_count": null,
   "metadata": {
    "execution": {
     "iopub.execute_input": "2023-03-05T14:13:31.324047Z",
     "iopub.status.busy": "2023-03-05T14:13:31.323753Z",
     "iopub.status.idle": "2023-03-05T14:13:31.626389Z",
     "shell.execute_reply": "2023-03-05T14:13:31.623808Z",
     "shell.execute_reply.started": "2023-03-05T14:13:31.324020Z"
    }
   },
   "outputs": [],
   "source": [
    "df['num_sentences'] = df['text'].apply(lambda x : len(nltk.sent_tokenize(x)) )\n",
    "df.head()"
   ]
  },
  {
   "cell_type": "code",
   "execution_count": null,
   "metadata": {
    "execution": {
     "iopub.execute_input": "2023-03-05T14:13:31.631260Z",
     "iopub.status.busy": "2023-03-05T14:13:31.630670Z",
     "iopub.status.idle": "2023-03-05T14:13:31.659728Z",
     "shell.execute_reply": "2023-03-05T14:13:31.657847Z",
     "shell.execute_reply.started": "2023-03-05T14:13:31.631207Z"
    }
   },
   "outputs": [],
   "source": [
    "df[['num_characters','num_words','num_sentences']].describe()"
   ]
  },
  {
   "cell_type": "code",
   "execution_count": null,
   "metadata": {
    "execution": {
     "iopub.execute_input": "2023-03-05T14:13:31.661939Z",
     "iopub.status.busy": "2023-03-05T14:13:31.661567Z",
     "iopub.status.idle": "2023-03-05T14:13:31.688636Z",
     "shell.execute_reply": "2023-03-05T14:13:31.687082Z",
     "shell.execute_reply.started": "2023-03-05T14:13:31.661902Z"
    }
   },
   "outputs": [],
   "source": [
    "# for ham messages\n",
    "df[df['target'] == 0][['num_characters','num_words','num_sentences']].describe()"
   ]
  },
  {
   "cell_type": "code",
   "execution_count": null,
   "metadata": {
    "execution": {
     "iopub.execute_input": "2023-03-05T14:13:31.694015Z",
     "iopub.status.busy": "2023-03-05T14:13:31.693625Z",
     "iopub.status.idle": "2023-03-05T14:13:31.715984Z",
     "shell.execute_reply": "2023-03-05T14:13:31.714045Z",
     "shell.execute_reply.started": "2023-03-05T14:13:31.693980Z"
    }
   },
   "outputs": [],
   "source": [
    "# for spam messages\n",
    "df[df['target'] == 1][['num_characters','num_words','num_sentences']].describe()"
   ]
  },
  {
   "cell_type": "code",
   "execution_count": null,
   "metadata": {
    "execution": {
     "iopub.execute_input": "2023-03-05T14:13:31.717633Z",
     "iopub.status.busy": "2023-03-05T14:13:31.717281Z",
     "iopub.status.idle": "2023-03-05T14:13:31.724094Z",
     "shell.execute_reply": "2023-03-05T14:13:31.722511Z",
     "shell.execute_reply.started": "2023-03-05T14:13:31.717599Z"
    }
   },
   "outputs": [],
   "source": [
    "import seaborn as sns"
   ]
  },
  {
   "cell_type": "code",
   "execution_count": null,
   "metadata": {
    "execution": {
     "iopub.execute_input": "2023-03-05T14:13:31.726041Z",
     "iopub.status.busy": "2023-03-05T14:13:31.725672Z",
     "iopub.status.idle": "2023-03-05T14:13:32.271912Z",
     "shell.execute_reply": "2023-03-05T14:13:32.270909Z",
     "shell.execute_reply.started": "2023-03-05T14:13:31.726006Z"
    }
   },
   "outputs": [],
   "source": [
    "plt.figure(figsize=(12,6))\n",
    "sns.histplot(df[df['target'] == 0]['num_characters'])\n",
    "sns.histplot(df[df['target'] == 1]['num_characters'], color='red')"
   ]
  },
  {
   "cell_type": "code",
   "execution_count": null,
   "metadata": {
    "execution": {
     "iopub.execute_input": "2023-03-05T14:13:32.273667Z",
     "iopub.status.busy": "2023-03-05T14:13:32.273137Z",
     "iopub.status.idle": "2023-03-05T14:13:32.738663Z",
     "shell.execute_reply": "2023-03-05T14:13:32.737634Z",
     "shell.execute_reply.started": "2023-03-05T14:13:32.273623Z"
    }
   },
   "outputs": [],
   "source": [
    "plt.figure(figsize=(12,6))\n",
    "sns.histplot(df[df['target'] == 0]['num_words'])\n",
    "sns.histplot(df[df['target'] == 1]['num_words'], color='red')"
   ]
  },
  {
   "cell_type": "code",
   "execution_count": null,
   "metadata": {
    "execution": {
     "iopub.execute_input": "2023-03-05T14:13:32.741539Z",
     "iopub.status.busy": "2023-03-05T14:13:32.739855Z",
     "iopub.status.idle": "2023-03-05T14:13:36.630568Z",
     "shell.execute_reply": "2023-03-05T14:13:36.629258Z",
     "shell.execute_reply.started": "2023-03-05T14:13:32.741477Z"
    }
   },
   "outputs": [],
   "source": [
    "sns.pairplot(df,hue='target')"
   ]
  },
  {
   "cell_type": "code",
   "execution_count": null,
   "metadata": {
    "execution": {
     "iopub.execute_input": "2023-03-05T14:13:36.632241Z",
     "iopub.status.busy": "2023-03-05T14:13:36.631915Z",
     "iopub.status.idle": "2023-03-05T14:13:36.899671Z",
     "shell.execute_reply": "2023-03-05T14:13:36.898009Z",
     "shell.execute_reply.started": "2023-03-05T14:13:36.632205Z"
    }
   },
   "outputs": [],
   "source": [
    "sns.heatmap(df.corr(), annot=True)"
   ]
  },
  {
   "cell_type": "markdown",
   "metadata": {},
   "source": [
    "## 3. Data Preprocessing"
   ]
  },
  {
   "cell_type": "code",
   "execution_count": null,
   "metadata": {
    "execution": {
     "iopub.execute_input": "2023-03-05T14:13:36.901547Z",
     "iopub.status.busy": "2023-03-05T14:13:36.901197Z",
     "iopub.status.idle": "2023-03-05T14:13:36.907953Z",
     "shell.execute_reply": "2023-03-05T14:13:36.906297Z",
     "shell.execute_reply.started": "2023-03-05T14:13:36.901514Z"
    }
   },
   "outputs": [],
   "source": [
    "from nltk.corpus import stopwords\n",
    "from nltk.stem.porter import PorterStemmer\n",
    "import string"
   ]
  },
  {
   "cell_type": "code",
   "execution_count": null,
   "metadata": {
    "execution": {
     "iopub.execute_input": "2023-03-05T14:13:36.910172Z",
     "iopub.status.busy": "2023-03-05T14:13:36.909829Z",
     "iopub.status.idle": "2023-03-05T14:13:36.919523Z",
     "shell.execute_reply": "2023-03-05T14:13:36.917722Z",
     "shell.execute_reply.started": "2023-03-05T14:13:36.910140Z"
    }
   },
   "outputs": [],
   "source": [
    "def transform_text(text):\n",
    "    text = text.lower()\n",
    "    text = nltk.word_tokenize(text)\n",
    "    \n",
    "    y = []\n",
    "    for i in text:\n",
    "        if i.isalnum():\n",
    "            y.append(i)\n",
    "            \n",
    "    text = y[:]\n",
    "    y.clear()\n",
    "    for i in text:\n",
    "        if i not in stopwords.words('english') and i not in string.punctuation:\n",
    "            y.append(i)\n",
    "    text = y[:]\n",
    "    y.clear()\n",
    "    \n",
    "    ps = PorterStemmer()\n",
    "    for i in text:\n",
    "        y.append(ps.stem(i))\n",
    "    \n",
    "    return \" \".join(y)"
   ]
  },
  {
   "cell_type": "code",
   "execution_count": null,
   "metadata": {
    "execution": {
     "iopub.execute_input": "2023-03-05T14:13:36.921467Z",
     "iopub.status.busy": "2023-03-05T14:13:36.921091Z",
     "iopub.status.idle": "2023-03-05T14:13:48.197571Z",
     "shell.execute_reply": "2023-03-05T14:13:48.195759Z",
     "shell.execute_reply.started": "2023-03-05T14:13:36.921434Z"
    }
   },
   "outputs": [],
   "source": [
    "df['transformed_text'] = df['text'].apply(transform_text)\n",
    "df.head()"
   ]
  },
  {
   "cell_type": "code",
   "execution_count": null,
   "metadata": {
    "execution": {
     "iopub.execute_input": "2023-03-05T14:13:48.199542Z",
     "iopub.status.busy": "2023-03-05T14:13:48.199160Z",
     "iopub.status.idle": "2023-03-05T14:13:48.205888Z",
     "shell.execute_reply": "2023-03-05T14:13:48.204362Z",
     "shell.execute_reply.started": "2023-03-05T14:13:48.199507Z"
    }
   },
   "outputs": [],
   "source": [
    "from wordcloud import WordCloud\n",
    "wc = WordCloud(width=500,height=500, min_font_size=10,background_color='white')"
   ]
  },
  {
   "cell_type": "code",
   "execution_count": null,
   "metadata": {
    "execution": {
     "iopub.execute_input": "2023-03-05T14:13:48.208456Z",
     "iopub.status.busy": "2023-03-05T14:13:48.207850Z",
     "iopub.status.idle": "2023-03-05T14:13:49.161702Z",
     "shell.execute_reply": "2023-03-05T14:13:49.159746Z",
     "shell.execute_reply.started": "2023-03-05T14:13:48.208398Z"
    }
   },
   "outputs": [],
   "source": [
    "spam_wc = wc.generate(df[df['target'] == 1]['transformed_text'].str.cat(sep = \" \"))\n",
    "ham_wc = wc.generate(df[df['target'] == 0]['transformed_text'].str.cat(sep = \" \"))"
   ]
  },
  {
   "cell_type": "code",
   "execution_count": null,
   "metadata": {
    "execution": {
     "iopub.execute_input": "2023-03-05T14:13:49.163552Z",
     "iopub.status.busy": "2023-03-05T14:13:49.163164Z",
     "iopub.status.idle": "2023-03-05T14:13:49.443040Z",
     "shell.execute_reply": "2023-03-05T14:13:49.442136Z",
     "shell.execute_reply.started": "2023-03-05T14:13:49.163514Z"
    }
   },
   "outputs": [],
   "source": [
    "plt.figure(figsize=(15,6))\n",
    "plt.imshow(spam_wc)"
   ]
  },
  {
   "cell_type": "code",
   "execution_count": null,
   "metadata": {
    "execution": {
     "iopub.execute_input": "2023-03-05T14:13:49.444824Z",
     "iopub.status.busy": "2023-03-05T14:13:49.444221Z",
     "iopub.status.idle": "2023-03-05T14:13:49.728459Z",
     "shell.execute_reply": "2023-03-05T14:13:49.727229Z",
     "shell.execute_reply.started": "2023-03-05T14:13:49.444784Z"
    }
   },
   "outputs": [],
   "source": [
    "plt.figure(figsize=(15,6))\n",
    "plt.imshow(ham_wc)"
   ]
  },
  {
   "cell_type": "code",
   "execution_count": null,
   "metadata": {
    "execution": {
     "iopub.execute_input": "2023-03-05T14:13:49.730464Z",
     "iopub.status.busy": "2023-03-05T14:13:49.729673Z",
     "iopub.status.idle": "2023-03-05T14:13:49.743679Z",
     "shell.execute_reply": "2023-03-05T14:13:49.742168Z",
     "shell.execute_reply.started": "2023-03-05T14:13:49.730426Z"
    }
   },
   "outputs": [],
   "source": [
    "df.head()"
   ]
  },
  {
   "cell_type": "code",
   "execution_count": null,
   "metadata": {
    "execution": {
     "iopub.execute_input": "2023-03-05T14:13:49.745381Z",
     "iopub.status.busy": "2023-03-05T14:13:49.744757Z",
     "iopub.status.idle": "2023-03-05T14:13:49.757976Z",
     "shell.execute_reply": "2023-03-05T14:13:49.755882Z",
     "shell.execute_reply.started": "2023-03-05T14:13:49.745273Z"
    }
   },
   "outputs": [],
   "source": [
    "spam_corpus = []\n",
    "for msg in df[df['target'] == 1 ]['transformed_text'].tolist():\n",
    "    for word in msg.split():\n",
    "        spam_corpus.append(word)"
   ]
  },
  {
   "cell_type": "code",
   "execution_count": null,
   "metadata": {
    "execution": {
     "iopub.execute_input": "2023-03-05T14:13:49.759925Z",
     "iopub.status.busy": "2023-03-05T14:13:49.759538Z",
     "iopub.status.idle": "2023-03-05T14:13:49.770038Z",
     "shell.execute_reply": "2023-03-05T14:13:49.768746Z",
     "shell.execute_reply.started": "2023-03-05T14:13:49.759889Z"
    }
   },
   "outputs": [],
   "source": [
    "len(spam_corpus)"
   ]
  },
  {
   "cell_type": "code",
   "execution_count": null,
   "metadata": {
    "execution": {
     "iopub.execute_input": "2023-03-05T14:13:49.772200Z",
     "iopub.status.busy": "2023-03-05T14:13:49.771722Z",
     "iopub.status.idle": "2023-03-05T14:13:50.101074Z",
     "shell.execute_reply": "2023-03-05T14:13:50.099572Z",
     "shell.execute_reply.started": "2023-03-05T14:13:49.772102Z"
    }
   },
   "outputs": [],
   "source": [
    "from collections import Counter\n",
    "sns.barplot(x = pd.DataFrame(Counter(spam_corpus).most_common(30))[0], y = pd.DataFrame(Counter(spam_corpus).most_common(30))[1])\n",
    "plt.xticks(rotation = 'vertical')\n",
    "plt.show()"
   ]
  },
  {
   "cell_type": "code",
   "execution_count": null,
   "metadata": {
    "execution": {
     "iopub.execute_input": "2023-03-05T14:13:50.102615Z",
     "iopub.status.busy": "2023-03-05T14:13:50.102289Z",
     "iopub.status.idle": "2023-03-05T14:13:50.120151Z",
     "shell.execute_reply": "2023-03-05T14:13:50.118228Z",
     "shell.execute_reply.started": "2023-03-05T14:13:50.102587Z"
    }
   },
   "outputs": [],
   "source": [
    "ham_corpus = []\n",
    "for msg in df[df['target'] == 0 ]['transformed_text'].tolist():\n",
    "    for word in msg.split():\n",
    "        ham_corpus.append(word)"
   ]
  },
  {
   "cell_type": "code",
   "execution_count": null,
   "metadata": {
    "execution": {
     "iopub.execute_input": "2023-03-05T14:13:50.123119Z",
     "iopub.status.busy": "2023-03-05T14:13:50.122110Z",
     "iopub.status.idle": "2023-03-05T14:13:50.131586Z",
     "shell.execute_reply": "2023-03-05T14:13:50.130395Z",
     "shell.execute_reply.started": "2023-03-05T14:13:50.123066Z"
    }
   },
   "outputs": [],
   "source": [
    "len(ham_corpus)"
   ]
  },
  {
   "cell_type": "code",
   "execution_count": null,
   "metadata": {
    "execution": {
     "iopub.execute_input": "2023-03-05T14:13:50.134131Z",
     "iopub.status.busy": "2023-03-05T14:13:50.133612Z",
     "iopub.status.idle": "2023-03-05T14:13:50.463266Z",
     "shell.execute_reply": "2023-03-05T14:13:50.461901Z",
     "shell.execute_reply.started": "2023-03-05T14:13:50.134075Z"
    }
   },
   "outputs": [],
   "source": [
    "sns.barplot(x = pd.DataFrame(Counter(ham_corpus).most_common(30))[0], y = pd.DataFrame(Counter(ham_corpus).most_common(30))[1])\n",
    "plt.xticks(rotation = 'vertical')\n",
    "plt.show()"
   ]
  },
  {
   "cell_type": "markdown",
   "metadata": {},
   "source": [
    "## 4. Model Building"
   ]
  },
  {
   "cell_type": "code",
   "execution_count": null,
   "metadata": {
    "execution": {
     "iopub.execute_input": "2023-03-05T14:19:22.163959Z",
     "iopub.status.busy": "2023-03-05T14:19:22.163414Z",
     "iopub.status.idle": "2023-03-05T14:19:22.171765Z",
     "shell.execute_reply": "2023-03-05T14:19:22.169892Z",
     "shell.execute_reply.started": "2023-03-05T14:19:22.163911Z"
    }
   },
   "outputs": [],
   "source": [
    "from sklearn.feature_extraction.text import CountVectorizer,TfidfVectorizer\n",
    "cv = CountVectorizer()\n",
    "tfidf = TfidfVectorizer(max_features=3000)"
   ]
  },
  {
   "cell_type": "code",
   "execution_count": null,
   "metadata": {
    "execution": {
     "iopub.execute_input": "2023-03-05T14:19:22.613299Z",
     "iopub.status.busy": "2023-03-05T14:19:22.612791Z",
     "iopub.status.idle": "2023-03-05T14:19:22.723685Z",
     "shell.execute_reply": "2023-03-05T14:19:22.721902Z",
     "shell.execute_reply.started": "2023-03-05T14:19:22.613255Z"
    }
   },
   "outputs": [],
   "source": [
    "# X = cv.fit_transform(df['transformed_text']).toarray()\n",
    "X = tfidf.fit_transform(df['transformed_text']).toarray()"
   ]
  },
  {
   "cell_type": "code",
   "execution_count": null,
   "metadata": {
    "execution": {
     "iopub.execute_input": "2023-03-05T14:19:22.973726Z",
     "iopub.status.busy": "2023-03-05T14:19:22.973308Z",
     "iopub.status.idle": "2023-03-05T14:19:22.979125Z",
     "shell.execute_reply": "2023-03-05T14:19:22.977549Z",
     "shell.execute_reply.started": "2023-03-05T14:19:22.973688Z"
    }
   },
   "outputs": [],
   "source": [
    "# from sklearn.preprocessing import MinMaxScaler\n",
    "# scaler = MinMaxScaler()\n",
    "# X = scaler.fit_transform(X)"
   ]
  },
  {
   "cell_type": "code",
   "execution_count": null,
   "metadata": {
    "execution": {
     "iopub.execute_input": "2023-03-05T14:19:23.353302Z",
     "iopub.status.busy": "2023-03-05T14:19:23.352265Z",
     "iopub.status.idle": "2023-03-05T14:19:23.360889Z",
     "shell.execute_reply": "2023-03-05T14:19:23.359456Z",
     "shell.execute_reply.started": "2023-03-05T14:19:23.353231Z"
    }
   },
   "outputs": [],
   "source": [
    "X.shape"
   ]
  },
  {
   "cell_type": "code",
   "execution_count": null,
   "metadata": {
    "execution": {
     "iopub.execute_input": "2023-03-05T14:19:23.899505Z",
     "iopub.status.busy": "2023-03-05T14:19:23.899071Z",
     "iopub.status.idle": "2023-03-05T14:19:23.906579Z",
     "shell.execute_reply": "2023-03-05T14:19:23.904110Z",
     "shell.execute_reply.started": "2023-03-05T14:19:23.899468Z"
    }
   },
   "outputs": [],
   "source": [
    "y = df['target'].values"
   ]
  },
  {
   "cell_type": "code",
   "execution_count": null,
   "metadata": {
    "execution": {
     "iopub.execute_input": "2023-03-05T14:19:24.026135Z",
     "iopub.status.busy": "2023-03-05T14:19:24.025763Z",
     "iopub.status.idle": "2023-03-05T14:19:24.035247Z",
     "shell.execute_reply": "2023-03-05T14:19:24.033811Z",
     "shell.execute_reply.started": "2023-03-05T14:19:24.026103Z"
    }
   },
   "outputs": [],
   "source": [
    "y"
   ]
  },
  {
   "cell_type": "code",
   "execution_count": null,
   "metadata": {
    "execution": {
     "iopub.execute_input": "2023-03-05T14:19:24.434645Z",
     "iopub.status.busy": "2023-03-05T14:19:24.434179Z",
     "iopub.status.idle": "2023-03-05T14:19:24.441709Z",
     "shell.execute_reply": "2023-03-05T14:19:24.439740Z",
     "shell.execute_reply.started": "2023-03-05T14:19:24.434601Z"
    }
   },
   "outputs": [],
   "source": [
    "from sklearn.model_selection import train_test_split"
   ]
  },
  {
   "cell_type": "code",
   "execution_count": null,
   "metadata": {
    "execution": {
     "iopub.execute_input": "2023-03-05T14:19:24.592567Z",
     "iopub.status.busy": "2023-03-05T14:19:24.592117Z",
     "iopub.status.idle": "2023-03-05T14:19:24.623940Z",
     "shell.execute_reply": "2023-03-05T14:19:24.622398Z",
     "shell.execute_reply.started": "2023-03-05T14:19:24.592529Z"
    }
   },
   "outputs": [],
   "source": [
    "X_train,X_test,y_train,y_test = train_test_split(X,y,test_size=0.2,random_state=2)"
   ]
  },
  {
   "cell_type": "code",
   "execution_count": null,
   "metadata": {
    "execution": {
     "iopub.execute_input": "2023-03-05T14:19:24.862387Z",
     "iopub.status.busy": "2023-03-05T14:19:24.861966Z",
     "iopub.status.idle": "2023-03-05T14:19:24.868368Z",
     "shell.execute_reply": "2023-03-05T14:19:24.866514Z",
     "shell.execute_reply.started": "2023-03-05T14:19:24.862348Z"
    }
   },
   "outputs": [],
   "source": [
    "from sklearn.naive_bayes import GaussianNB,MultinomialNB,BernoulliNB\n",
    "from sklearn.metrics import accuracy_score,confusion_matrix,precision_score"
   ]
  },
  {
   "cell_type": "code",
   "execution_count": null,
   "metadata": {
    "execution": {
     "iopub.execute_input": "2023-03-05T14:19:25.112496Z",
     "iopub.status.busy": "2023-03-05T14:19:25.112029Z",
     "iopub.status.idle": "2023-03-05T14:19:25.119060Z",
     "shell.execute_reply": "2023-03-05T14:19:25.117193Z",
     "shell.execute_reply.started": "2023-03-05T14:19:25.112454Z"
    }
   },
   "outputs": [],
   "source": [
    "gnb = GaussianNB()\n",
    "mnb = MultinomialNB()\n",
    "bnb = BernoulliNB()"
   ]
  },
  {
   "cell_type": "code",
   "execution_count": null,
   "metadata": {
    "execution": {
     "iopub.execute_input": "2023-03-05T14:19:25.323512Z",
     "iopub.status.busy": "2023-03-05T14:19:25.323099Z",
     "iopub.status.idle": "2023-03-05T14:19:25.482594Z",
     "shell.execute_reply": "2023-03-05T14:19:25.480036Z",
     "shell.execute_reply.started": "2023-03-05T14:19:25.323474Z"
    }
   },
   "outputs": [],
   "source": [
    "gnb.fit(X_train,y_train)\n",
    "y_pred1 = gnb.predict(X_test)\n",
    "print(accuracy_score(y_test,y_pred1))\n",
    "print(confusion_matrix(y_test,y_pred1))\n",
    "print(precision_score(y_test,y_pred1))"
   ]
  },
  {
   "cell_type": "code",
   "execution_count": null,
   "metadata": {
    "execution": {
     "iopub.execute_input": "2023-03-05T14:19:25.515764Z",
     "iopub.status.busy": "2023-03-05T14:19:25.514318Z",
     "iopub.status.idle": "2023-03-05T14:19:25.562369Z",
     "shell.execute_reply": "2023-03-05T14:19:25.561239Z",
     "shell.execute_reply.started": "2023-03-05T14:19:25.515616Z"
    }
   },
   "outputs": [],
   "source": [
    "mnb.fit(X_train,y_train)\n",
    "y_pred2 = mnb.predict(X_test)\n",
    "print(accuracy_score(y_test,y_pred2))\n",
    "print(confusion_matrix(y_test,y_pred2))\n",
    "print(precision_score(y_test,y_pred2))"
   ]
  },
  {
   "cell_type": "code",
   "execution_count": null,
   "metadata": {
    "execution": {
     "iopub.execute_input": "2023-03-05T14:19:25.723760Z",
     "iopub.status.busy": "2023-03-05T14:19:25.723309Z",
     "iopub.status.idle": "2023-03-05T14:19:25.811758Z",
     "shell.execute_reply": "2023-03-05T14:19:25.810815Z",
     "shell.execute_reply.started": "2023-03-05T14:19:25.723720Z"
    }
   },
   "outputs": [],
   "source": [
    "bnb.fit(X_train,y_train)\n",
    "y_pred3 = bnb.predict(X_test)\n",
    "print(accuracy_score(y_test,y_pred3))\n",
    "print(confusion_matrix(y_test,y_pred3))\n",
    "print(precision_score(y_test,y_pred3))"
   ]
  },
  {
   "cell_type": "code",
   "execution_count": null,
   "metadata": {
    "execution": {
     "iopub.execute_input": "2023-03-05T14:19:25.910355Z",
     "iopub.status.busy": "2023-03-05T14:19:25.909930Z",
     "iopub.status.idle": "2023-03-05T14:19:25.916267Z",
     "shell.execute_reply": "2023-03-05T14:19:25.915404Z",
     "shell.execute_reply.started": "2023-03-05T14:19:25.910299Z"
    }
   },
   "outputs": [],
   "source": [
    "# tfidf ----> mnb"
   ]
  },
  {
   "cell_type": "code",
   "execution_count": null,
   "metadata": {
    "execution": {
     "iopub.execute_input": "2023-03-05T14:19:26.106034Z",
     "iopub.status.busy": "2023-03-05T14:19:26.105092Z",
     "iopub.status.idle": "2023-03-05T14:19:26.113438Z",
     "shell.execute_reply": "2023-03-05T14:19:26.111411Z",
     "shell.execute_reply.started": "2023-03-05T14:19:26.105990Z"
    }
   },
   "outputs": [],
   "source": [
    "from sklearn.linear_model import LogisticRegression\n",
    "from sklearn.svm import SVC\n",
    "from sklearn.naive_bayes import MultinomialNB\n",
    "from sklearn.tree import DecisionTreeClassifier\n",
    "from sklearn.neighbors import KNeighborsClassifier\n",
    "from sklearn.ensemble import RandomForestClassifier\n",
    "from sklearn.ensemble import AdaBoostClassifier\n",
    "from sklearn.ensemble import BaggingClassifier\n",
    "from sklearn.ensemble import ExtraTreesClassifier\n",
    "from sklearn.ensemble import GradientBoostingClassifier\n",
    "from xgboost import XGBClassifier"
   ]
  },
  {
   "cell_type": "code",
   "execution_count": null,
   "metadata": {
    "execution": {
     "iopub.execute_input": "2023-03-05T14:19:26.333147Z",
     "iopub.status.busy": "2023-03-05T14:19:26.332749Z",
     "iopub.status.idle": "2023-03-05T14:19:26.341952Z",
     "shell.execute_reply": "2023-03-05T14:19:26.340245Z",
     "shell.execute_reply.started": "2023-03-05T14:19:26.333112Z"
    }
   },
   "outputs": [],
   "source": [
    "svc = SVC(kernel='sigmoid', gamma=1.0)\n",
    "knc = KNeighborsClassifier()\n",
    "mnb = MultinomialNB()\n",
    "dtc = DecisionTreeClassifier(max_depth=5)\n",
    "lrc = LogisticRegression(solver='liblinear', penalty='l1')\n",
    "rfc = RandomForestClassifier(n_estimators=50, random_state=2)\n",
    "abc = AdaBoostClassifier(n_estimators=50, random_state=2)\n",
    "bc  = BaggingClassifier(n_estimators=50, random_state=2)\n",
    "etc = ExtraTreesClassifier(n_estimators=50, random_state=2)\n",
    "gbdt= GradientBoostingClassifier(n_estimators=50, random_state=2)\n",
    "xgb = XGBClassifier(n_estimators=50, random_state=2)"
   ]
  },
  {
   "cell_type": "code",
   "execution_count": null,
   "metadata": {
    "execution": {
     "iopub.execute_input": "2023-03-05T14:19:26.594278Z",
     "iopub.status.busy": "2023-03-05T14:19:26.593874Z",
     "iopub.status.idle": "2023-03-05T14:19:26.602683Z",
     "shell.execute_reply": "2023-03-05T14:19:26.600072Z",
     "shell.execute_reply.started": "2023-03-05T14:19:26.594245Z"
    }
   },
   "outputs": [],
   "source": [
    "clfs = {\n",
    "    'SVC':svc,\n",
    "    'KN':knc,\n",
    "    'NB':mnb,\n",
    "    'DT': dtc,\n",
    "    'LR': lrc,\n",
    "    'RF': rfc,\n",
    "    'AdaBoost':abc,\n",
    "    'BgC': bc,\n",
    "    'ETC':etc,\n",
    "    'GBDT':gbdt,\n",
    "    'xgb':xgb\n",
    "}"
   ]
  },
  {
   "cell_type": "code",
   "execution_count": null,
   "metadata": {
    "execution": {
     "iopub.execute_input": "2023-03-05T14:19:26.773750Z",
     "iopub.status.busy": "2023-03-05T14:19:26.773360Z",
     "iopub.status.idle": "2023-03-05T14:19:26.781024Z",
     "shell.execute_reply": "2023-03-05T14:19:26.779356Z",
     "shell.execute_reply.started": "2023-03-05T14:19:26.773715Z"
    }
   },
   "outputs": [],
   "source": [
    "def train_classifier(clf, X_train, y_train, X_test, y_test):\n",
    "    clf.fit(X_train,y_train)\n",
    "    y_pred = clf.predict(X_test)\n",
    "    accuracy = accuracy_score(y_test,y_pred)\n",
    "    precision = precision_score(y_test,y_pred)\n",
    "    \n",
    "    return accuracy,precision"
   ]
  },
  {
   "cell_type": "code",
   "execution_count": null,
   "metadata": {
    "execution": {
     "iopub.execute_input": "2023-03-05T14:19:26.995880Z",
     "iopub.status.busy": "2023-03-05T14:19:26.995193Z",
     "iopub.status.idle": "2023-03-05T14:19:32.844242Z",
     "shell.execute_reply": "2023-03-05T14:19:32.841976Z",
     "shell.execute_reply.started": "2023-03-05T14:19:26.995842Z"
    }
   },
   "outputs": [],
   "source": [
    "train_classifier(svc, X_train, y_train, X_test, y_test)"
   ]
  },
  {
   "cell_type": "code",
   "execution_count": null,
   "metadata": {
    "execution": {
     "iopub.execute_input": "2023-03-05T14:19:32.847791Z",
     "iopub.status.busy": "2023-03-05T14:19:32.847310Z",
     "iopub.status.idle": "2023-03-05T14:21:19.712071Z",
     "shell.execute_reply": "2023-03-05T14:21:19.710913Z",
     "shell.execute_reply.started": "2023-03-05T14:19:32.847744Z"
    }
   },
   "outputs": [],
   "source": [
    "accuracy_scores = []\n",
    "precision_scores = []\n",
    "\n",
    "for name,clf in clfs.items():\n",
    "    current_accuracy, current_precision = train_classifier(clf, X_train, y_train, X_test, y_test)\n",
    "    \n",
    "    print(\"For \",name)\n",
    "    print(\"Accuracy - \", current_accuracy)\n",
    "    print(\"Precision - \", current_precision)\n",
    "    \n",
    "    accuracy_scores.append(current_accuracy)\n",
    "    precision_scores.append(current_precision)"
   ]
  },
  {
   "cell_type": "code",
   "execution_count": null,
   "metadata": {
    "execution": {
     "iopub.execute_input": "2023-03-05T14:21:19.715812Z",
     "iopub.status.busy": "2023-03-05T14:21:19.715431Z",
     "iopub.status.idle": "2023-03-05T14:21:19.723110Z",
     "shell.execute_reply": "2023-03-05T14:21:19.722053Z",
     "shell.execute_reply.started": "2023-03-05T14:21:19.715781Z"
    }
   },
   "outputs": [],
   "source": [
    "performance_df = pd.DataFrame({'Algorithm':clfs.keys(),'Accuracy':accuracy_scores, 'Precision': precision_scores}).sort_values('Precision',ascending=False)"
   ]
  },
  {
   "cell_type": "code",
   "execution_count": null,
   "metadata": {
    "execution": {
     "iopub.execute_input": "2023-03-05T14:21:19.726625Z",
     "iopub.status.busy": "2023-03-05T14:21:19.725502Z",
     "iopub.status.idle": "2023-03-05T14:21:19.755171Z",
     "shell.execute_reply": "2023-03-05T14:21:19.752654Z",
     "shell.execute_reply.started": "2023-03-05T14:21:19.726577Z"
    }
   },
   "outputs": [],
   "source": [
    "performance_df"
   ]
  },
  {
   "cell_type": "code",
   "execution_count": null,
   "metadata": {
    "execution": {
     "iopub.execute_input": "2023-03-05T14:21:19.757924Z",
     "iopub.status.busy": "2023-03-05T14:21:19.757532Z",
     "iopub.status.idle": "2023-03-05T14:21:19.771118Z",
     "shell.execute_reply": "2023-03-05T14:21:19.769166Z",
     "shell.execute_reply.started": "2023-03-05T14:21:19.757886Z"
    }
   },
   "outputs": [],
   "source": [
    "performance_df1 = pd.melt(performance_df, id_vars= 'Algorithm')"
   ]
  },
  {
   "cell_type": "code",
   "execution_count": null,
   "metadata": {
    "execution": {
     "iopub.execute_input": "2023-03-05T14:21:19.773607Z",
     "iopub.status.busy": "2023-03-05T14:21:19.773081Z",
     "iopub.status.idle": "2023-03-05T14:21:19.796080Z",
     "shell.execute_reply": "2023-03-05T14:21:19.793958Z",
     "shell.execute_reply.started": "2023-03-05T14:21:19.773555Z"
    }
   },
   "outputs": [],
   "source": [
    "performance_df1"
   ]
  },
  {
   "cell_type": "code",
   "execution_count": null,
   "metadata": {
    "execution": {
     "iopub.execute_input": "2023-03-05T14:21:19.797707Z",
     "iopub.status.busy": "2023-03-05T14:21:19.797386Z",
     "iopub.status.idle": "2023-03-05T14:21:20.157071Z",
     "shell.execute_reply": "2023-03-05T14:21:20.155508Z",
     "shell.execute_reply.started": "2023-03-05T14:21:19.797676Z"
    }
   },
   "outputs": [],
   "source": [
    "sns.catplot(x = 'Algorithm' , y='value', hue = 'variable'\n",
    "           ,data = performance_df1, kind='bar', height=5)\n",
    "plt.ylim(0.5,1.0)\n",
    "plt.xticks(rotation='vertical')\n",
    "plt.show()"
   ]
  },
  {
   "cell_type": "code",
   "execution_count": null,
   "metadata": {
    "execution": {
     "iopub.execute_input": "2023-03-05T14:15:38.591895Z",
     "iopub.status.busy": "2023-03-05T14:15:38.591573Z",
     "iopub.status.idle": "2023-03-05T14:15:38.596159Z",
     "shell.execute_reply": "2023-03-05T14:15:38.595389Z",
     "shell.execute_reply.started": "2023-03-05T14:15:38.591864Z"
    }
   },
   "outputs": [],
   "source": [
    "#model improve"
   ]
  },
  {
   "cell_type": "code",
   "execution_count": null,
   "metadata": {
    "execution": {
     "iopub.execute_input": "2023-03-05T14:24:41.864015Z",
     "iopub.status.busy": "2023-03-05T14:24:41.863621Z",
     "iopub.status.idle": "2023-03-05T14:24:41.870600Z",
     "shell.execute_reply": "2023-03-05T14:24:41.868550Z",
     "shell.execute_reply.started": "2023-03-05T14:24:41.863981Z"
    }
   },
   "outputs": [],
   "source": [
    "# Try Voting Classifier or Stacking of algos\n"
   ]
  },
  {
   "cell_type": "code",
   "execution_count": null,
   "metadata": {
    "execution": {
     "iopub.execute_input": "2023-03-05T14:28:11.815808Z",
     "iopub.status.busy": "2023-03-05T14:28:11.814006Z",
     "iopub.status.idle": "2023-03-05T14:28:11.834353Z",
     "shell.execute_reply": "2023-03-05T14:28:11.831402Z",
     "shell.execute_reply.started": "2023-03-05T14:28:11.815742Z"
    }
   },
   "outputs": [],
   "source": [
    "import pickle\n",
    "pickle.dump(tfidf, open('vectorizer.pkl','wb'))\n",
    "pickle.dump(mnb,open('model.pkl','wb'))"
   ]
  },
  {
   "cell_type": "code",
   "execution_count": null,
   "metadata": {},
   "outputs": [],
   "source": []
  }
 ],
 "metadata": {
  "kernelspec": {
   "display_name": "Python 3 (ipykernel)",
   "language": "python",
   "name": "python3"
  },
  "language_info": {
   "codemirror_mode": {
    "name": "ipython",
    "version": 3
   },
   "file_extension": ".py",
   "mimetype": "text/x-python",
   "name": "python",
   "nbconvert_exporter": "python",
   "pygments_lexer": "ipython3",
   "version": "3.10.4"
  }
 },
 "nbformat": 4,
 "nbformat_minor": 4
}
